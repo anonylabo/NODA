{
  "cells": [
    {
      "cell_type": "markdown",
      "metadata": {
        "id": "view-in-github",
        "colab_type": "text"
      },
      "source": [
        "<a href=\"https://colab.research.google.com/github/anonylabo/EODA/blob/main/EODA.ipynb\" target=\"_parent\"><img src=\"https://colab.research.google.com/assets/colab-badge.svg\" alt=\"Open In Colab\"/></a>"
      ]
    },
    {
      "cell_type": "markdown",
      "metadata": {
        "id": "Axu-DbPgUUOF"
      },
      "source": [
        "#Clone"
      ]
    },
    {
      "cell_type": "code",
      "execution_count": null,
      "metadata": {
        "id": "yBtGvey3TFsf"
      },
      "outputs": [],
      "source": [
        "#!rm -rf /content/EODA"
      ]
    },
    {
      "cell_type": "code",
      "execution_count": null,
      "metadata": {
        "id": "HRv_daR-TK4W"
      },
      "outputs": [],
      "source": [
        "#%cd /content"
      ]
    },
    {
      "cell_type": "code",
      "execution_count": null,
      "metadata": {
        "id": "x34AQhfIOAZ_"
      },
      "outputs": [],
      "source": []
    },
    {
      "cell_type": "code",
      "execution_count": null,
      "metadata": {
        "colab": {
          "base_uri": "https://localhost:8080/"
        },
        "id": "pTEdaalrO1fe",
        "outputId": "db2e2bfa-1af9-487f-9ff2-7e45ba8354a8"
      },
      "outputs": [
        {
          "name": "stdout",
          "output_type": "stream",
          "text": [
            "Cloning into 'EODA'...\n",
            "remote: Enumerating objects: 482, done.\u001b[K\n",
            "remote: Counting objects: 100% (114/114), done.\u001b[K\n",
            "remote: Compressing objects: 100% (98/98), done.\u001b[K\n",
            "remote: Total 482 (delta 55), reused 15 (delta 15), pack-reused 368\u001b[K\n",
            "Receiving objects: 100% (482/482), 21.16 MiB | 9.50 MiB/s, done.\n",
            "Resolving deltas: 100% (223/223), done.\n"
          ]
        }
      ],
      "source": [
        "!git clone https://github.com/anonylabo/EODA\n"
      ]
    },
    {
      "cell_type": "code",
      "execution_count": null,
      "metadata": {
        "colab": {
          "base_uri": "https://localhost:8080/"
        },
        "id": "RXavVh5zRf5D",
        "outputId": "0c8e51f2-17b9-4b3b-a7c2-3820fe008db9"
      },
      "outputs": [
        {
          "name": "stdout",
          "output_type": "stream",
          "text": [
            "/content/EODA/README.md:<!-- img src=\"https://github.com/anonylabo/EODA/blob/main/figure/GTFormer.png\" width=\"1000\" alt=\"Figure\" title=\"Architecture of EODA\" -->\n"
          ]
        }
      ],
      "source": [
        "!grep -R GTFormer /content/EODA"
      ]
    },
    {
      "cell_type": "markdown",
      "metadata": {
        "id": "bGXF-IX6UV91"
      },
      "source": [
        "#Dataset"
      ]
    },
    {
      "cell_type": "code",
      "execution_count": null,
      "metadata": {
        "colab": {
          "base_uri": "https://localhost:8080/"
        },
        "id": "77FNpHNRPoqY",
        "outputId": "5130d735-a55b-4ab3-88ce-cef2699fdd92"
      },
      "outputs": [
        {
          "name": "stdout",
          "output_type": "stream",
          "text": [
            "/content/EODA/data\n"
          ]
        }
      ],
      "source": [
        "%cd /content/EODA/data"
      ]
    },
    {
      "cell_type": "code",
      "execution_count": null,
      "metadata": {
        "id": "18SjKgp1P4mK"
      },
      "outputs": [],
      "source": [
        "import gdown"
      ]
    },
    {
      "cell_type": "code",
      "execution_count": null,
      "metadata": {
        "colab": {
          "base_uri": "https://localhost:8080/"
        },
        "id": "y9POeNZIQBYG",
        "outputId": "065b9b90-aca8-4232-9370-fa245934c77a"
      },
      "outputs": [
        {
          "name": "stderr",
          "output_type": "stream",
          "text": [
            "Retrieving folder contents\n"
          ]
        },
        {
          "name": "stdout",
          "output_type": "stream",
          "text": [
            "Processing file 1AoXjv9rt69q9lB0eryi9jcNGJEvA1u1H 201801-capitalbikeshare-tripdata.zip\n",
            "Processing file 18hMRTJCmOZWkM5F2lyHjPo4PjNRK96-C 201802-capitalbikeshare-tripdata.zip\n",
            "Processing file 12no8cES6TbH8vmg8jxTmwvHRW4Np1jzS 201803-capitalbikeshare-tripdata.zip\n",
            "Processing file 1ns2G8C2NyrCufD0psgAXn-FpJYU1hlXT 201804-capitalbikeshare-tripdata.zip\n",
            "Processing file 11MIL1ZTY_ksvpOcybgAMp8iDC_yTWq0U 201805-capitalbikeshare-tripdata.zip\n",
            "Processing file 1RyxjpRQAPBKUzTqAPqmgw4-yNrO8CpeZ 201806-capitalbikeshare-tripdata.zip\n",
            "Processing file 1mDYTVpYMcQgc8tBEATr0qi5C-VTb05sR 201807-capitalbikeshare-tripdata.zip\n",
            "Processing file 1e5TpOidFhLkh0CIUa6J9NV1LPHJTbEbX 201808-capitalbikeshare-tripdata.zip\n",
            "Processing file 11SweCGQMFFLub7K1322qqnaSmserWHTn 201809-capitalbikeshare-tripdata.zip\n",
            "Processing file 1_Orlx46f0pTpWzj5as70KS1Ic2atMAl6 201810-capitalbikeshare-tripdata.zip\n",
            "Processing file 1oY_p4qhGKq3_z7r4eZZeOKSht-CXrDVE 201811-capitalbikeshare-tripdata.zip\n",
            "Processing file 1ja0qtMFKkuSqi0D54ID9nu9XFlhELVXN 201812-capitalbikeshare-tripdata.zip\n",
            "Processing file 1t-tutOo65SdfHWfVxS9C61p92R_AGhKx 201901-capitalbikeshare-tripdata.zip\n",
            "Processing file 1pD8xx1ZaYSxoSYWQ-6bU11rGVkPNI98D 201902-capitalbikeshare-tripdata.zip\n",
            "Processing file 1HooumApJrqjophhW2VvXGlKiOlx2Lmw3 201903-capitalbikeshare-tripdata.zip\n",
            "Processing file 1A4O0C7xZlNvbEFsl_63ZFLamUxCWSAdj 201904-capitalbikeshare-tripdata.zip\n",
            "Processing file 1bdcLRCSTPR6QUpE3owydjlyLjUjuabVI 201905-capitalbikeshare-tripdata.zip\n",
            "Processing file 1AOT6dquM3x0ipG4y2amHTSM0RSZwup6H 201906-capitalbikeshare-tripdata.zip\n",
            "Processing file 1c9KA-sVHKNUyYqIuQySbIyOKsXOAhyol 201907-capitalbikeshare-tripdata.zip\n",
            "Processing file 17XY8mMzWm0zaY8PFCXm_Z2mJhQ0-Fo_B 201908-capitalbikeshare-tripdata.zip\n",
            "Processing file 13Lw5l-MfkQdj6H83T15ygIQmvYKZRzh7 201909-capitalbikeshare-tripdata.zip\n",
            "Processing file 1hRZ2VB2TyknDMc08iuWzLTdBeRGWskj3 201910-capitalbikeshare-tripdata.zip\n",
            "Processing file 1pQRtjSl1MPlkfqOiJeM2G3FTN_1wYQRd 201911-capitalbikeshare-tripdata.zip\n",
            "Processing file 1UcyY93tbO8Ttx9P2u7rsirKd7jjlkzHJ 201912-capitalbikeshare-tripdata.zip\n",
            "Processing file 1EqgYJ96pk_0AdSUbbUM8Ru30NGxD9RGR Tessellation_1000m_DC.csv\n"
          ]
        },
        {
          "name": "stderr",
          "output_type": "stream",
          "text": [
            "Retrieving folder contents completed\n",
            "Building directory structure\n",
            "Building directory structure completed\n",
            "Downloading...\n",
            "From: https://drive.google.com/uc?id=1AoXjv9rt69q9lB0eryi9jcNGJEvA1u1H\n",
            "To: /content/EODA/data/DC/201801-capitalbikeshare-tripdata.zip\n",
            "100%|██████████| 3.87M/3.87M [00:00<00:00, 235MB/s]\n",
            "Downloading...\n",
            "From: https://drive.google.com/uc?id=18hMRTJCmOZWkM5F2lyHjPo4PjNRK96-C\n",
            "To: /content/EODA/data/DC/201802-capitalbikeshare-tripdata.zip\n",
            "100%|██████████| 4.18M/4.18M [00:00<00:00, 240MB/s]\n",
            "Downloading...\n",
            "From: https://drive.google.com/uc?id=12no8cES6TbH8vmg8jxTmwvHRW4Np1jzS\n",
            "To: /content/EODA/data/DC/201803-capitalbikeshare-tripdata.zip\n",
            "100%|██████████| 5.43M/5.43M [00:00<00:00, 9.15MB/s]\n",
            "Downloading...\n",
            "From: https://drive.google.com/uc?id=1ns2G8C2NyrCufD0psgAXn-FpJYU1hlXT\n",
            "To: /content/EODA/data/DC/201804-capitalbikeshare-tripdata.zip\n",
            "100%|██████████| 7.48M/7.48M [00:00<00:00, 15.3MB/s]\n",
            "Downloading...\n",
            "From: https://drive.google.com/uc?id=11MIL1ZTY_ksvpOcybgAMp8iDC_yTWq0U\n",
            "To: /content/EODA/data/DC/201805-capitalbikeshare-tripdata.zip\n",
            "100%|██████████| 8.51M/8.51M [00:00<00:00, 15.5MB/s]\n",
            "Downloading...\n",
            "From: https://drive.google.com/uc?id=1RyxjpRQAPBKUzTqAPqmgw4-yNrO8CpeZ\n",
            "To: /content/EODA/data/DC/201806-capitalbikeshare-tripdata.zip\n",
            "100%|██████████| 8.94M/8.94M [00:01<00:00, 5.05MB/s]\n",
            "Downloading...\n",
            "From: https://drive.google.com/uc?id=1mDYTVpYMcQgc8tBEATr0qi5C-VTb05sR\n",
            "To: /content/EODA/data/DC/201807-capitalbikeshare-tripdata.zip\n",
            "100%|██████████| 9.17M/9.17M [00:00<00:00, 16.9MB/s]\n",
            "Downloading...\n",
            "From: https://drive.google.com/uc?id=1e5TpOidFhLkh0CIUa6J9NV1LPHJTbEbX\n",
            "To: /content/EODA/data/DC/201808-capitalbikeshare-tripdata.zip\n",
            "100%|██████████| 9.21M/9.21M [00:00<00:00, 31.5MB/s]\n",
            "Downloading...\n",
            "From: https://drive.google.com/uc?id=11SweCGQMFFLub7K1322qqnaSmserWHTn\n",
            "To: /content/EODA/data/DC/201809-capitalbikeshare-tripdata.zip\n",
            "100%|██████████| 7.46M/7.46M [00:00<00:00, 38.4MB/s]\n",
            "Downloading...\n",
            "From: https://drive.google.com/uc?id=1_Orlx46f0pTpWzj5as70KS1Ic2atMAl6\n",
            "To: /content/EODA/data/DC/201810-capitalbikeshare-tripdata.zip\n",
            "100%|██████████| 7.88M/7.88M [00:00<00:00, 27.8MB/s]\n",
            "Downloading...\n",
            "From: https://drive.google.com/uc?id=1oY_p4qhGKq3_z7r4eZZeOKSht-CXrDVE\n",
            "To: /content/EODA/data/DC/201811-capitalbikeshare-tripdata.zip\n",
            "100%|██████████| 5.10M/5.10M [00:00<00:00, 14.4MB/s]\n",
            "Downloading...\n",
            "From: https://drive.google.com/uc?id=1ja0qtMFKkuSqi0D54ID9nu9XFlhELVXN\n",
            "To: /content/EODA/data/DC/201812-capitalbikeshare-tripdata.zip\n",
            "100%|██████████| 3.67M/3.67M [00:00<00:00, 189MB/s]\n",
            "Downloading...\n",
            "From: https://drive.google.com/uc?id=1t-tutOo65SdfHWfVxS9C61p92R_AGhKx\n",
            "To: /content/EODA/data/DC/201901-capitalbikeshare-tripdata.zip\n",
            "100%|██████████| 3.50M/3.50M [00:00<00:00, 54.6MB/s]\n",
            "Downloading...\n",
            "From: https://drive.google.com/uc?id=1pD8xx1ZaYSxoSYWQ-6bU11rGVkPNI98D\n",
            "To: /content/EODA/data/DC/201902-capitalbikeshare-tripdata.zip\n",
            "100%|██████████| 3.67M/3.67M [00:00<00:00, 136MB/s]\n",
            "Downloading...\n",
            "From: https://drive.google.com/uc?id=1HooumApJrqjophhW2VvXGlKiOlx2Lmw3\n",
            "To: /content/EODA/data/DC/201903-capitalbikeshare-tripdata.zip\n",
            "100%|██████████| 5.86M/5.86M [00:00<00:00, 44.1MB/s]\n",
            "Downloading...\n",
            "From: https://drive.google.com/uc?id=1A4O0C7xZlNvbEFsl_63ZFLamUxCWSAdj\n",
            "To: /content/EODA/data/DC/201904-capitalbikeshare-tripdata.zip\n",
            "100%|██████████| 8.01M/8.01M [00:00<00:00, 10.5MB/s]\n",
            "Downloading...\n",
            "From: https://drive.google.com/uc?id=1bdcLRCSTPR6QUpE3owydjlyLjUjuabVI\n",
            "To: /content/EODA/data/DC/201905-capitalbikeshare-tripdata.zip\n",
            "100%|██████████| 7.84M/7.84M [00:00<00:00, 41.3MB/s]\n",
            "Downloading...\n",
            "From: https://drive.google.com/uc?id=1AOT6dquM3x0ipG4y2amHTSM0RSZwup6H\n",
            "To: /content/EODA/data/DC/201906-capitalbikeshare-tripdata.zip\n",
            "100%|██████████| 8.15M/8.15M [00:00<00:00, 12.9MB/s]\n",
            "Downloading...\n",
            "From: https://drive.google.com/uc?id=1c9KA-sVHKNUyYqIuQySbIyOKsXOAhyol\n",
            "To: /content/EODA/data/DC/201907-capitalbikeshare-tripdata.zip\n",
            "100%|██████████| 8.28M/8.28M [00:00<00:00, 14.4MB/s]\n",
            "Downloading...\n",
            "From: https://drive.google.com/uc?id=17XY8mMzWm0zaY8PFCXm_Z2mJhQ0-Fo_B\n",
            "To: /content/EODA/data/DC/201908-capitalbikeshare-tripdata.zip\n",
            "100%|██████████| 7.48M/7.48M [00:00<00:00, 40.6MB/s]\n",
            "Downloading...\n",
            "From: https://drive.google.com/uc?id=13Lw5l-MfkQdj6H83T15ygIQmvYKZRzh7\n",
            "To: /content/EODA/data/DC/201909-capitalbikeshare-tripdata.zip\n",
            "100%|██████████| 8.41M/8.41M [00:00<00:00, 10.9MB/s]\n",
            "Downloading...\n",
            "From: https://drive.google.com/uc?id=1hRZ2VB2TyknDMc08iuWzLTdBeRGWskj3\n",
            "To: /content/EODA/data/DC/201910-capitalbikeshare-tripdata.zip\n",
            "100%|██████████| 7.86M/7.86M [00:00<00:00, 9.94MB/s]\n",
            "Downloading...\n",
            "From: https://drive.google.com/uc?id=1pQRtjSl1MPlkfqOiJeM2G3FTN_1wYQRd\n",
            "To: /content/EODA/data/DC/201911-capitalbikeshare-tripdata.zip\n",
            "100%|██████████| 5.20M/5.20M [00:00<00:00, 15.7MB/s]\n",
            "Downloading...\n",
            "From: https://drive.google.com/uc?id=1UcyY93tbO8Ttx9P2u7rsirKd7jjlkzHJ\n",
            "To: /content/EODA/data/DC/201912-capitalbikeshare-tripdata.zip\n",
            "100%|██████████| 3.79M/3.79M [00:00<00:00, 90.0MB/s]\n",
            "Downloading...\n",
            "From: https://drive.google.com/uc?id=1EqgYJ96pk_0AdSUbbUM8Ru30NGxD9RGR\n",
            "To: /content/EODA/data/DC/Tessellation_1000m_DC.csv\n",
            "100%|██████████| 74.6k/74.6k [00:00<00:00, 58.2MB/s]\n",
            "Download completed\n"
          ]
        },
        {
          "data": {
            "text/plain": [
              "['/content/EODA/data/DC/201801-capitalbikeshare-tripdata.zip',\n",
              " '/content/EODA/data/DC/201802-capitalbikeshare-tripdata.zip',\n",
              " '/content/EODA/data/DC/201803-capitalbikeshare-tripdata.zip',\n",
              " '/content/EODA/data/DC/201804-capitalbikeshare-tripdata.zip',\n",
              " '/content/EODA/data/DC/201805-capitalbikeshare-tripdata.zip',\n",
              " '/content/EODA/data/DC/201806-capitalbikeshare-tripdata.zip',\n",
              " '/content/EODA/data/DC/201807-capitalbikeshare-tripdata.zip',\n",
              " '/content/EODA/data/DC/201808-capitalbikeshare-tripdata.zip',\n",
              " '/content/EODA/data/DC/201809-capitalbikeshare-tripdata.zip',\n",
              " '/content/EODA/data/DC/201810-capitalbikeshare-tripdata.zip',\n",
              " '/content/EODA/data/DC/201811-capitalbikeshare-tripdata.zip',\n",
              " '/content/EODA/data/DC/201812-capitalbikeshare-tripdata.zip',\n",
              " '/content/EODA/data/DC/201901-capitalbikeshare-tripdata.zip',\n",
              " '/content/EODA/data/DC/201902-capitalbikeshare-tripdata.zip',\n",
              " '/content/EODA/data/DC/201903-capitalbikeshare-tripdata.zip',\n",
              " '/content/EODA/data/DC/201904-capitalbikeshare-tripdata.zip',\n",
              " '/content/EODA/data/DC/201905-capitalbikeshare-tripdata.zip',\n",
              " '/content/EODA/data/DC/201906-capitalbikeshare-tripdata.zip',\n",
              " '/content/EODA/data/DC/201907-capitalbikeshare-tripdata.zip',\n",
              " '/content/EODA/data/DC/201908-capitalbikeshare-tripdata.zip',\n",
              " '/content/EODA/data/DC/201909-capitalbikeshare-tripdata.zip',\n",
              " '/content/EODA/data/DC/201910-capitalbikeshare-tripdata.zip',\n",
              " '/content/EODA/data/DC/201911-capitalbikeshare-tripdata.zip',\n",
              " '/content/EODA/data/DC/201912-capitalbikeshare-tripdata.zip',\n",
              " '/content/EODA/data/DC/Tessellation_1000m_DC.csv']"
            ]
          },
          "execution_count": 8,
          "metadata": {},
          "output_type": "execute_result"
        }
      ],
      "source": [
        "driveurl = 'https://drive.google.com/drive/folders/1eDuwTWb06eM1QLbVUJk5bti4kO99VzYo' #DC\n",
        "\n",
        "gdown.download_folder(driveurl)"
      ]
    },
    {
      "cell_type": "code",
      "execution_count": null,
      "metadata": {
        "colab": {
          "base_uri": "https://localhost:8080/"
        },
        "id": "iIpvwRwqRQeJ",
        "outputId": "b573823f-73c7-4929-cc14-2ad46d4a168f"
      },
      "outputs": [
        {
          "name": "stderr",
          "output_type": "stream",
          "text": [
            "Retrieving folder contents\n"
          ]
        },
        {
          "name": "stdout",
          "output_type": "stream",
          "text": [
            "Processing file 14CYhNdcvJJTl05nsTux8gq_ifKUC0Ufx 201404-citibike-tripdata.zip\n",
            "Processing file 1UVf4ljuOsQm2ElFUi6paCCS3r0ZlNQ4k 201405-citibike-tripdata.zip\n",
            "Processing file 1ZNsdWPxcutRywvYpRdaBZOUseexdznRU 201406-citibike-tripdata.zip\n",
            "Processing file 1QEL93lrJPO2OevyMoonYSgkMIdvns6z3 201407-citibike-tripdata.zip\n",
            "Processing file 1myK-6F6KZaVpoMZfb943jcQerJewN82- 201408-citibike-tripdata.zip\n",
            "Processing file 1N2_bMeHFPQjjIz9EZvpkCbJIslb4Rf5E 201409-citibike-tripdata.zip\n",
            "Processing file 1e2st285r8MCjXpfksQza3skoI-gU-2h_ Tessellation_1000m_NYC.csv\n"
          ]
        },
        {
          "name": "stderr",
          "output_type": "stream",
          "text": [
            "Retrieving folder contents completed\n",
            "Building directory structure\n",
            "Building directory structure completed\n",
            "Downloading...\n",
            "From: https://drive.google.com/uc?id=14CYhNdcvJJTl05nsTux8gq_ifKUC0Ufx\n",
            "To: /content/EODA/data/NYC/201404-citibike-tripdata.zip\n",
            "100%|██████████| 21.4M/21.4M [00:01<00:00, 19.2MB/s]\n",
            "Downloading...\n",
            "From (original): https://drive.google.com/uc?id=1UVf4ljuOsQm2ElFUi6paCCS3r0ZlNQ4k\n",
            "From (redirected): https://drive.google.com/uc?id=1UVf4ljuOsQm2ElFUi6paCCS3r0ZlNQ4k&confirm=t&uuid=d6729f21-94f9-4c46-bd50-8a954e3acad3\n",
            "To: /content/EODA/data/NYC/201405-citibike-tripdata.zip\n",
            "100%|██████████| 27.6M/27.6M [00:01<00:00, 25.2MB/s]\n",
            "Downloading...\n",
            "From (original): https://drive.google.com/uc?id=1ZNsdWPxcutRywvYpRdaBZOUseexdznRU\n",
            "From (redirected): https://drive.google.com/uc?id=1ZNsdWPxcutRywvYpRdaBZOUseexdznRU&confirm=t&uuid=ab2461f5-af62-4def-a35f-fcfb555b0b41\n",
            "To: /content/EODA/data/NYC/201406-citibike-tripdata.zip\n",
            "100%|██████████| 29.9M/29.9M [00:01<00:00, 24.9MB/s]\n",
            "Downloading...\n",
            "From (original): https://drive.google.com/uc?id=1QEL93lrJPO2OevyMoonYSgkMIdvns6z3\n",
            "From (redirected): https://drive.google.com/uc?id=1QEL93lrJPO2OevyMoonYSgkMIdvns6z3&confirm=t&uuid=521a6210-c609-4dbf-9505-16e705771cf1\n",
            "To: /content/EODA/data/NYC/201407-citibike-tripdata.zip\n",
            "100%|██████████| 30.9M/30.9M [00:00<00:00, 57.6MB/s]\n",
            "Downloading...\n",
            "From (original): https://drive.google.com/uc?id=1myK-6F6KZaVpoMZfb943jcQerJewN82-\n",
            "From (redirected): https://drive.google.com/uc?id=1myK-6F6KZaVpoMZfb943jcQerJewN82-&confirm=t&uuid=ca613fd1-7de1-4673-b2fd-486114f1120f\n",
            "To: /content/EODA/data/NYC/201408-citibike-tripdata.zip\n",
            "100%|██████████| 30.6M/30.6M [00:01<00:00, 20.1MB/s]\n",
            "Downloading...\n",
            "From (original): https://drive.google.com/uc?id=1N2_bMeHFPQjjIz9EZvpkCbJIslb4Rf5E\n",
            "From (redirected): https://drive.google.com/uc?id=1N2_bMeHFPQjjIz9EZvpkCbJIslb4Rf5E&confirm=t&uuid=1cbcf100-1447-42d6-9478-915ae93ce974\n",
            "To: /content/EODA/data/NYC/201409-citibike-tripdata.zip\n",
            "100%|██████████| 30.3M/30.3M [00:00<00:00, 33.5MB/s]\n",
            "Downloading...\n",
            "From: https://drive.google.com/uc?id=1e2st285r8MCjXpfksQza3skoI-gU-2h_\n",
            "To: /content/EODA/data/NYC/Tessellation_1000m_NYC.csv\n",
            "100%|██████████| 34.0k/34.0k [00:00<00:00, 34.1MB/s]\n",
            "Download completed\n"
          ]
        },
        {
          "data": {
            "text/plain": [
              "['/content/EODA/data/NYC/201404-citibike-tripdata.zip',\n",
              " '/content/EODA/data/NYC/201405-citibike-tripdata.zip',\n",
              " '/content/EODA/data/NYC/201406-citibike-tripdata.zip',\n",
              " '/content/EODA/data/NYC/201407-citibike-tripdata.zip',\n",
              " '/content/EODA/data/NYC/201408-citibike-tripdata.zip',\n",
              " '/content/EODA/data/NYC/201409-citibike-tripdata.zip',\n",
              " '/content/EODA/data/NYC/Tessellation_1000m_NYC.csv']"
            ]
          },
          "execution_count": 9,
          "metadata": {},
          "output_type": "execute_result"
        }
      ],
      "source": [
        "driveurl = 'https://drive.google.com/drive/folders/1q5c7b8JOgWzrofeDjIoVnFcAUF_DcXKi' #NYC\n",
        "\n",
        "gdown.download_folder(driveurl)"
      ]
    },
    {
      "cell_type": "markdown",
      "metadata": {
        "id": "YaNVAgxZUYXO"
      },
      "source": [
        "#Run Scripts"
      ]
    },
    {
      "cell_type": "code",
      "execution_count": null,
      "metadata": {
        "colab": {
          "base_uri": "https://localhost:8080/"
        },
        "id": "9bXWnEE_QrKL",
        "outputId": "184bb555-b780-4a8c-f26c-9b966f943bdf"
      },
      "outputs": [
        {
          "name": "stdout",
          "output_type": "stream",
          "text": [
            "/content/EODA\n"
          ]
        }
      ],
      "source": [
        "%cd /content/EODA"
      ]
    },
    {
      "cell_type": "code",
      "execution_count": null,
      "metadata": {
        "colab": {
          "background_save": true,
          "base_uri": "https://localhost:8080/"
        },
        "id": "2J7PK3PpO4oX",
        "outputId": "3239d315-6ff7-493d-ef9e-03733436606e"
      },
      "outputs": [
        {
          "name": "stdout",
          "output_type": "stream",
          "text": [
            "data preprocessing...\n",
            "/content/EODA/data_provider/read_geodataframe.py:100: UserWarning: CRS mismatch between the CRS of left geometries and the CRS of right geometries.\n",
            "Use `to_crs()` to reproject one of the input geometries to match the CRS of the other.\n",
            "\n",
            "Left CRS: EPSG:4326\n",
            "Right CRS: None\n",
            "\n",
            "  gdf_in_join = gpd.sjoin(gdf_in, tessellation)\n",
            "/content/EODA/data_provider/read_geodataframe.py:108: UserWarning: CRS mismatch between the CRS of left geometries and the CRS of right geometries.\n",
            "Use `to_crs()` to reproject one of the input geometries to match the CRS of the other.\n",
            "\n",
            "Left CRS: EPSG:4326\n",
            "Right CRS: None\n",
            "\n",
            "  gdf_final_join = gpd.sjoin(gdf_final, tessellation)\n",
            "Traceback (most recent call last):\n",
            "  File \"/content/EODA/run.py\", line 79, in <module>\n",
            "    main()\n",
            "  File \"/content/EODA/run.py\", line 55, in main\n",
            "    load_dataset(args.city, args.sample_time, dataset_directory)\n",
            "  File \"/content/EODA/data_provider/read_geodataframe.py\", line 114, in load_dataset\n",
            "    gdf_final_join[\"starttime\"] = pd.to_datetime(gdf_final_join[\"starttime\"])\n",
            "  File \"/usr/local/lib/python3.10/dist-packages/pandas/core/tools/datetimes.py\", line 1050, in to_datetime\n",
            "    values = convert_listlike(arg._values, format)\n",
            "  File \"/usr/local/lib/python3.10/dist-packages/pandas/core/tools/datetimes.py\", line 453, in _convert_listlike_datetimes\n",
            "    return _array_strptime_with_fallback(arg, name, utc, format, exact, errors)\n",
            "  File \"/usr/local/lib/python3.10/dist-packages/pandas/core/tools/datetimes.py\", line 484, in _array_strptime_with_fallback\n",
            "    result, timezones = array_strptime(arg, fmt, exact=exact, errors=errors, utc=utc)\n",
            "  File \"pandas/_libs/tslibs/strptime.pyx\", line 530, in pandas._libs.tslibs.strptime.array_strptime\n",
            "  File \"pandas/_libs/tslibs/strptime.pyx\", line 351, in pandas._libs.tslibs.strptime.array_strptime\n",
            "ValueError: time data \"9/1/2014 10:09:45\" doesn't match format \"%Y-%m-%d %H:%M:%S\", at position 62. You might want to try:\n",
            "    - passing `format` if your strings have a consistent format;\n",
            "    - passing `format='ISO8601'` if your strings are all ISO8601 but not necessarily in exactly the same format;\n",
            "    - passing `format='mixed'`, and the format will be inferred for each element individually. You might want to use `dayfirst` alongside this.\n",
            "data preprocessing...\n",
            "/content/EODA/data_provider/read_geodataframe.py:100: UserWarning: CRS mismatch between the CRS of left geometries and the CRS of right geometries.\n",
            "Use `to_crs()` to reproject one of the input geometries to match the CRS of the other.\n",
            "\n",
            "Left CRS: EPSG:4326\n",
            "Right CRS: None\n",
            "\n",
            "  gdf_in_join = gpd.sjoin(gdf_in, tessellation)\n",
            "/content/EODA/data_provider/read_geodataframe.py:108: UserWarning: CRS mismatch between the CRS of left geometries and the CRS of right geometries.\n",
            "Use `to_crs()` to reproject one of the input geometries to match the CRS of the other.\n",
            "\n",
            "Left CRS: EPSG:4326\n",
            "Right CRS: None\n",
            "\n",
            "  gdf_final_join = gpd.sjoin(gdf_final, tessellation)\n",
            "Traceback (most recent call last):\n",
            "  File \"/content/EODA/run.py\", line 79, in <module>\n",
            "    main()\n",
            "  File \"/content/EODA/run.py\", line 55, in main\n",
            "    load_dataset(args.city, args.sample_time, dataset_directory)\n",
            "  File \"/content/EODA/data_provider/read_geodataframe.py\", line 114, in load_dataset\n",
            "    gdf_final_join[\"starttime\"] = pd.to_datetime(gdf_final_join[\"starttime\"])\n",
            "  File \"/usr/local/lib/python3.10/dist-packages/pandas/core/tools/datetimes.py\", line 1050, in to_datetime\n",
            "    values = convert_listlike(arg._values, format)\n",
            "  File \"/usr/local/lib/python3.10/dist-packages/pandas/core/tools/datetimes.py\", line 453, in _convert_listlike_datetimes\n",
            "    return _array_strptime_with_fallback(arg, name, utc, format, exact, errors)\n",
            "  File \"/usr/local/lib/python3.10/dist-packages/pandas/core/tools/datetimes.py\", line 484, in _array_strptime_with_fallback\n",
            "    result, timezones = array_strptime(arg, fmt, exact=exact, errors=errors, utc=utc)\n",
            "  File \"pandas/_libs/tslibs/strptime.pyx\", line 530, in pandas._libs.tslibs.strptime.array_strptime\n",
            "  File \"pandas/_libs/tslibs/strptime.pyx\", line 351, in pandas._libs.tslibs.strptime.array_strptime\n",
            "ValueError: time data \"9/1/2014 10:09:45\" doesn't match format \"%Y-%m-%d %H:%M:%S\", at position 62. You might want to try:\n",
            "    - passing `format` if your strings have a consistent format;\n",
            "    - passing `format='ISO8601'` if your strings are all ISO8601 but not necessarily in exactly the same format;\n",
            "    - passing `format='mixed'`, and the format will be inferred for each element individually. You might want to use `dayfirst` alongside this.\n",
            "data preprocessing...\n",
            "/content/EODA/data_provider/read_geodataframe.py:100: UserWarning: CRS mismatch between the CRS of left geometries and the CRS of right geometries.\n",
            "Use `to_crs()` to reproject one of the input geometries to match the CRS of the other.\n",
            "\n",
            "Left CRS: EPSG:4326\n",
            "Right CRS: None\n",
            "\n",
            "  gdf_in_join = gpd.sjoin(gdf_in, tessellation)\n",
            "/content/EODA/data_provider/read_geodataframe.py:108: UserWarning: CRS mismatch between the CRS of left geometries and the CRS of right geometries.\n",
            "Use `to_crs()` to reproject one of the input geometries to match the CRS of the other.\n",
            "\n",
            "Left CRS: EPSG:4326\n",
            "Right CRS: None\n",
            "\n",
            "  gdf_final_join = gpd.sjoin(gdf_final, tessellation)\n",
            "Traceback (most recent call last):\n",
            "  File \"/content/EODA/run.py\", line 79, in <module>\n",
            "    main()\n",
            "  File \"/content/EODA/run.py\", line 55, in main\n",
            "    load_dataset(args.city, args.sample_time, dataset_directory)\n",
            "  File \"/content/EODA/data_provider/read_geodataframe.py\", line 114, in load_dataset\n",
            "    gdf_final_join[\"starttime\"] = pd.to_datetime(gdf_final_join[\"starttime\"])\n",
            "  File \"/usr/local/lib/python3.10/dist-packages/pandas/core/tools/datetimes.py\", line 1050, in to_datetime\n",
            "    values = convert_listlike(arg._values, format)\n",
            "  File \"/usr/local/lib/python3.10/dist-packages/pandas/core/tools/datetimes.py\", line 453, in _convert_listlike_datetimes\n",
            "    return _array_strptime_with_fallback(arg, name, utc, format, exact, errors)\n",
            "  File \"/usr/local/lib/python3.10/dist-packages/pandas/core/tools/datetimes.py\", line 484, in _array_strptime_with_fallback\n",
            "    result, timezones = array_strptime(arg, fmt, exact=exact, errors=errors, utc=utc)\n",
            "  File \"pandas/_libs/tslibs/strptime.pyx\", line 530, in pandas._libs.tslibs.strptime.array_strptime\n",
            "  File \"pandas/_libs/tslibs/strptime.pyx\", line 351, in pandas._libs.tslibs.strptime.array_strptime\n",
            "ValueError: time data \"9/1/2014 10:09:45\" doesn't match format \"%Y-%m-%d %H:%M:%S\", at position 62. You might want to try:\n",
            "    - passing `format` if your strings have a consistent format;\n",
            "    - passing `format='ISO8601'` if your strings are all ISO8601 but not necessarily in exactly the same format;\n",
            "    - passing `format='mixed'`, and the format will be inferred for each element individually. You might want to use `dayfirst` alongside this.\n",
            "data preprocessing...\n",
            "/content/EODA/data_provider/read_geodataframe.py:100: UserWarning: CRS mismatch between the CRS of left geometries and the CRS of right geometries.\n",
            "Use `to_crs()` to reproject one of the input geometries to match the CRS of the other.\n",
            "\n",
            "Left CRS: EPSG:4326\n",
            "Right CRS: None\n",
            "\n",
            "  gdf_in_join = gpd.sjoin(gdf_in, tessellation)\n",
            "/content/EODA/data_provider/read_geodataframe.py:108: UserWarning: CRS mismatch between the CRS of left geometries and the CRS of right geometries.\n",
            "Use `to_crs()` to reproject one of the input geometries to match the CRS of the other.\n",
            "\n",
            "Left CRS: EPSG:4326\n",
            "Right CRS: None\n",
            "\n",
            "  gdf_final_join = gpd.sjoin(gdf_final, tessellation)\n",
            "Traceback (most recent call last):\n",
            "  File \"/content/EODA/run.py\", line 79, in <module>\n",
            "    main()\n",
            "  File \"/content/EODA/run.py\", line 55, in main\n",
            "    load_dataset(args.city, args.sample_time, dataset_directory)\n",
            "  File \"/content/EODA/data_provider/read_geodataframe.py\", line 114, in load_dataset\n",
            "    gdf_final_join[\"starttime\"] = pd.to_datetime(gdf_final_join[\"starttime\"])\n",
            "  File \"/usr/local/lib/python3.10/dist-packages/pandas/core/tools/datetimes.py\", line 1050, in to_datetime\n",
            "    values = convert_listlike(arg._values, format)\n",
            "  File \"/usr/local/lib/python3.10/dist-packages/pandas/core/tools/datetimes.py\", line 453, in _convert_listlike_datetimes\n",
            "    return _array_strptime_with_fallback(arg, name, utc, format, exact, errors)\n",
            "  File \"/usr/local/lib/python3.10/dist-packages/pandas/core/tools/datetimes.py\", line 484, in _array_strptime_with_fallback\n",
            "    result, timezones = array_strptime(arg, fmt, exact=exact, errors=errors, utc=utc)\n",
            "  File \"pandas/_libs/tslibs/strptime.pyx\", line 530, in pandas._libs.tslibs.strptime.array_strptime\n",
            "  File \"pandas/_libs/tslibs/strptime.pyx\", line 351, in pandas._libs.tslibs.strptime.array_strptime\n",
            "ValueError: time data \"9/1/2014 10:09:45\" doesn't match format \"%Y-%m-%d %H:%M:%S\", at position 62. You might want to try:\n",
            "    - passing `format` if your strings have a consistent format;\n",
            "    - passing `format='ISO8601'` if your strings are all ISO8601 but not necessarily in exactly the same format;\n",
            "    - passing `format='mixed'`, and the format will be inferred for each element individually. You might want to use `dayfirst` alongside this.\n"
          ]
        }
      ],
      "source": [
        "!bash /content/EODA/scripts/Main/NYC/EODA.sh"
      ]
    },
    {
      "cell_type": "code",
      "execution_count": null,
      "metadata": {
        "colab": {
          "background_save": true
        },
        "id": "wJsj-RifPgZ5",
        "outputId": "a6495cb3-8efd-4fa4-df91-190179c6c006"
      },
      "outputs": [
        {
          "name": "stdout",
          "output_type": "stream",
          "text": [
            "data preprocessing...\n",
            "/content/EODA/data_provider/read_geodataframe.py:100: UserWarning: CRS mismatch between the CRS of left geometries and the CRS of right geometries.\n",
            "Use `to_crs()` to reproject one of the input geometries to match the CRS of the other.\n",
            "\n",
            "Left CRS: EPSG:4326\n",
            "Right CRS: None\n",
            "\n",
            "  gdf_in_join = gpd.sjoin(gdf_in, tessellation)\n",
            "/content/EODA/data_provider/read_geodataframe.py:108: UserWarning: CRS mismatch between the CRS of left geometries and the CRS of right geometries.\n",
            "Use `to_crs()` to reproject one of the input geometries to match the CRS of the other.\n",
            "\n",
            "Left CRS: EPSG:4326\n",
            "Right CRS: None\n",
            "\n",
            "  gdf_final_join = gpd.sjoin(gdf_final, tessellation)\n",
            "Traceback (most recent call last):\n",
            "  File \"/content/EODA/run.py\", line 79, in <module>\n",
            "    main()\n",
            "  File \"/content/EODA/run.py\", line 55, in main\n",
            "    load_dataset(args.city, args.sample_time, dataset_directory)\n",
            "  File \"/content/EODA/data_provider/read_geodataframe.py\", line 114, in load_dataset\n",
            "    gdf_final_join[\"starttime\"] = pd.to_datetime(gdf_final_join[\"starttime\"])\n",
            "  File \"/usr/local/lib/python3.10/dist-packages/pandas/core/tools/datetimes.py\", line 1050, in to_datetime\n",
            "    values = convert_listlike(arg._values, format)\n",
            "  File \"/usr/local/lib/python3.10/dist-packages/pandas/core/tools/datetimes.py\", line 453, in _convert_listlike_datetimes\n",
            "    return _array_strptime_with_fallback(arg, name, utc, format, exact, errors)\n",
            "  File \"/usr/local/lib/python3.10/dist-packages/pandas/core/tools/datetimes.py\", line 484, in _array_strptime_with_fallback\n",
            "    result, timezones = array_strptime(arg, fmt, exact=exact, errors=errors, utc=utc)\n",
            "  File \"pandas/_libs/tslibs/strptime.pyx\", line 530, in pandas._libs.tslibs.strptime.array_strptime\n",
            "  File \"pandas/_libs/tslibs/strptime.pyx\", line 351, in pandas._libs.tslibs.strptime.array_strptime\n",
            "ValueError: time data \"9/1/2014 10:09:45\" doesn't match format \"%Y-%m-%d %H:%M:%S\", at position 62. You might want to try:\n",
            "    - passing `format` if your strings have a consistent format;\n",
            "    - passing `format='ISO8601'` if your strings are all ISO8601 but not necessarily in exactly the same format;\n",
            "    - passing `format='mixed'`, and the format will be inferred for each element individually. You might want to use `dayfirst` alongside this.\n",
            "data preprocessing...\n",
            "/content/EODA/data_provider/read_geodataframe.py:100: UserWarning: CRS mismatch between the CRS of left geometries and the CRS of right geometries.\n",
            "Use `to_crs()` to reproject one of the input geometries to match the CRS of the other.\n",
            "\n",
            "Left CRS: EPSG:4326\n",
            "Right CRS: None\n",
            "\n",
            "  gdf_in_join = gpd.sjoin(gdf_in, tessellation)\n",
            "/content/EODA/data_provider/read_geodataframe.py:108: UserWarning: CRS mismatch between the CRS of left geometries and the CRS of right geometries.\n",
            "Use `to_crs()` to reproject one of the input geometries to match the CRS of the other.\n",
            "\n",
            "Left CRS: EPSG:4326\n",
            "Right CRS: None\n",
            "\n",
            "  gdf_final_join = gpd.sjoin(gdf_final, tessellation)\n",
            "Traceback (most recent call last):\n",
            "  File \"/content/EODA/run.py\", line 79, in <module>\n",
            "    main()\n",
            "  File \"/content/EODA/run.py\", line 55, in main\n",
            "    load_dataset(args.city, args.sample_time, dataset_directory)\n",
            "  File \"/content/EODA/data_provider/read_geodataframe.py\", line 114, in load_dataset\n",
            "    gdf_final_join[\"starttime\"] = pd.to_datetime(gdf_final_join[\"starttime\"])\n",
            "  File \"/usr/local/lib/python3.10/dist-packages/pandas/core/tools/datetimes.py\", line 1050, in to_datetime\n",
            "    values = convert_listlike(arg._values, format)\n",
            "  File \"/usr/local/lib/python3.10/dist-packages/pandas/core/tools/datetimes.py\", line 453, in _convert_listlike_datetimes\n",
            "    return _array_strptime_with_fallback(arg, name, utc, format, exact, errors)\n",
            "  File \"/usr/local/lib/python3.10/dist-packages/pandas/core/tools/datetimes.py\", line 484, in _array_strptime_with_fallback\n",
            "    result, timezones = array_strptime(arg, fmt, exact=exact, errors=errors, utc=utc)\n",
            "  File \"pandas/_libs/tslibs/strptime.pyx\", line 530, in pandas._libs.tslibs.strptime.array_strptime\n",
            "  File \"pandas/_libs/tslibs/strptime.pyx\", line 351, in pandas._libs.tslibs.strptime.array_strptime\n",
            "ValueError: time data \"9/1/2014 10:09:45\" doesn't match format \"%Y-%m-%d %H:%M:%S\", at position 62. You might want to try:\n",
            "    - passing `format` if your strings have a consistent format;\n",
            "    - passing `format='ISO8601'` if your strings are all ISO8601 but not necessarily in exactly the same format;\n",
            "    - passing `format='mixed'`, and the format will be inferred for each element individually. You might want to use `dayfirst` alongside this.\n"
          ]
        }
      ],
      "source": [
        "!bash /content/EODA/scripts/Main/DC/EODA.sh"
      ]
    },
    {
      "cell_type": "code",
      "execution_count": null,
      "metadata": {
        "colab": {
          "background_save": true
        },
        "id": "PhMpYMusPmr0",
        "outputId": "039db6df-2d3a-4856-a2de-97825506e503"
      },
      "outputs": [
        {
          "name": "stdout",
          "output_type": "stream",
          "text": [
            "data preprocessing...\n",
            "/content/EODA/data_provider/read_geodataframe.py:100: UserWarning: CRS mismatch between the CRS of left geometries and the CRS of right geometries.\n",
            "Use `to_crs()` to reproject one of the input geometries to match the CRS of the other.\n",
            "\n",
            "Left CRS: EPSG:4326\n",
            "Right CRS: None\n",
            "\n",
            "  gdf_in_join = gpd.sjoin(gdf_in, tessellation)\n",
            "/content/EODA/data_provider/read_geodataframe.py:108: UserWarning: CRS mismatch between the CRS of left geometries and the CRS of right geometries.\n",
            "Use `to_crs()` to reproject one of the input geometries to match the CRS of the other.\n",
            "\n",
            "Left CRS: EPSG:4326\n",
            "Right CRS: None\n",
            "\n",
            "  gdf_final_join = gpd.sjoin(gdf_final, tessellation)\n",
            "Traceback (most recent call last):\n",
            "  File \"/content/EODA/run.py\", line 79, in <module>\n",
            "    main()\n",
            "  File \"/content/EODA/run.py\", line 55, in main\n",
            "    load_dataset(args.city, args.sample_time, dataset_directory)\n",
            "  File \"/content/EODA/data_provider/read_geodataframe.py\", line 114, in load_dataset\n",
            "    gdf_final_join[\"starttime\"] = pd.to_datetime(gdf_final_join[\"starttime\"])\n",
            "  File \"/usr/local/lib/python3.10/dist-packages/pandas/core/tools/datetimes.py\", line 1050, in to_datetime\n",
            "    values = convert_listlike(arg._values, format)\n",
            "  File \"/usr/local/lib/python3.10/dist-packages/pandas/core/tools/datetimes.py\", line 453, in _convert_listlike_datetimes\n",
            "    return _array_strptime_with_fallback(arg, name, utc, format, exact, errors)\n",
            "  File \"/usr/local/lib/python3.10/dist-packages/pandas/core/tools/datetimes.py\", line 484, in _array_strptime_with_fallback\n",
            "    result, timezones = array_strptime(arg, fmt, exact=exact, errors=errors, utc=utc)\n",
            "  File \"pandas/_libs/tslibs/strptime.pyx\", line 530, in pandas._libs.tslibs.strptime.array_strptime\n",
            "  File \"pandas/_libs/tslibs/strptime.pyx\", line 351, in pandas._libs.tslibs.strptime.array_strptime\n",
            "ValueError: time data \"9/1/2014 10:09:45\" doesn't match format \"%Y-%m-%d %H:%M:%S\", at position 62. You might want to try:\n",
            "    - passing `format` if your strings have a consistent format;\n",
            "    - passing `format='ISO8601'` if your strings are all ISO8601 but not necessarily in exactly the same format;\n",
            "    - passing `format='mixed'`, and the format will be inferred for each element individually. You might want to use `dayfirst` alongside this.\n",
            "data preprocessing...\n",
            "/content/EODA/data_provider/read_geodataframe.py:100: UserWarning: CRS mismatch between the CRS of left geometries and the CRS of right geometries.\n",
            "Use `to_crs()` to reproject one of the input geometries to match the CRS of the other.\n",
            "\n",
            "Left CRS: EPSG:4326\n",
            "Right CRS: None\n",
            "\n",
            "  gdf_in_join = gpd.sjoin(gdf_in, tessellation)\n",
            "/content/EODA/data_provider/read_geodataframe.py:108: UserWarning: CRS mismatch between the CRS of left geometries and the CRS of right geometries.\n",
            "Use `to_crs()` to reproject one of the input geometries to match the CRS of the other.\n",
            "\n",
            "Left CRS: EPSG:4326\n",
            "Right CRS: None\n",
            "\n",
            "  gdf_final_join = gpd.sjoin(gdf_final, tessellation)\n",
            "Traceback (most recent call last):\n",
            "  File \"/content/EODA/run.py\", line 79, in <module>\n",
            "    main()\n",
            "  File \"/content/EODA/run.py\", line 55, in main\n",
            "    load_dataset(args.city, args.sample_time, dataset_directory)\n",
            "  File \"/content/EODA/data_provider/read_geodataframe.py\", line 114, in load_dataset\n",
            "    gdf_final_join[\"starttime\"] = pd.to_datetime(gdf_final_join[\"starttime\"])\n",
            "  File \"/usr/local/lib/python3.10/dist-packages/pandas/core/tools/datetimes.py\", line 1050, in to_datetime\n",
            "    values = convert_listlike(arg._values, format)\n",
            "  File \"/usr/local/lib/python3.10/dist-packages/pandas/core/tools/datetimes.py\", line 453, in _convert_listlike_datetimes\n",
            "    return _array_strptime_with_fallback(arg, name, utc, format, exact, errors)\n",
            "  File \"/usr/local/lib/python3.10/dist-packages/pandas/core/tools/datetimes.py\", line 484, in _array_strptime_with_fallback\n",
            "    result, timezones = array_strptime(arg, fmt, exact=exact, errors=errors, utc=utc)\n",
            "  File \"pandas/_libs/tslibs/strptime.pyx\", line 530, in pandas._libs.tslibs.strptime.array_strptime\n",
            "  File \"pandas/_libs/tslibs/strptime.pyx\", line 351, in pandas._libs.tslibs.strptime.array_strptime\n",
            "ValueError: time data \"9/1/2014 10:09:45\" doesn't match format \"%Y-%m-%d %H:%M:%S\", at position 62. You might want to try:\n",
            "    - passing `format` if your strings have a consistent format;\n",
            "    - passing `format='ISO8601'` if your strings are all ISO8601 but not necessarily in exactly the same format;\n",
            "    - passing `format='mixed'`, and the format will be inferred for each element individually. You might want to use `dayfirst` alongside this.\n",
            "data preprocessing...\n",
            "/content/EODA/data_provider/read_geodataframe.py:100: UserWarning: CRS mismatch between the CRS of left geometries and the CRS of right geometries.\n",
            "Use `to_crs()` to reproject one of the input geometries to match the CRS of the other.\n",
            "\n",
            "Left CRS: EPSG:4326\n",
            "Right CRS: None\n",
            "\n",
            "  gdf_in_join = gpd.sjoin(gdf_in, tessellation)\n",
            "/content/EODA/data_provider/read_geodataframe.py:108: UserWarning: CRS mismatch between the CRS of left geometries and the CRS of right geometries.\n",
            "Use `to_crs()` to reproject one of the input geometries to match the CRS of the other.\n",
            "\n",
            "Left CRS: EPSG:4326\n",
            "Right CRS: None\n",
            "\n",
            "  gdf_final_join = gpd.sjoin(gdf_final, tessellation)\n",
            "Traceback (most recent call last):\n",
            "  File \"/content/EODA/run.py\", line 79, in <module>\n",
            "    main()\n",
            "  File \"/content/EODA/run.py\", line 55, in main\n",
            "    load_dataset(args.city, args.sample_time, dataset_directory)\n",
            "  File \"/content/EODA/data_provider/read_geodataframe.py\", line 114, in load_dataset\n",
            "    gdf_final_join[\"starttime\"] = pd.to_datetime(gdf_final_join[\"starttime\"])\n",
            "  File \"/usr/local/lib/python3.10/dist-packages/pandas/core/tools/datetimes.py\", line 1050, in to_datetime\n",
            "    values = convert_listlike(arg._values, format)\n",
            "  File \"/usr/local/lib/python3.10/dist-packages/pandas/core/tools/datetimes.py\", line 453, in _convert_listlike_datetimes\n",
            "    return _array_strptime_with_fallback(arg, name, utc, format, exact, errors)\n",
            "  File \"/usr/local/lib/python3.10/dist-packages/pandas/core/tools/datetimes.py\", line 484, in _array_strptime_with_fallback\n",
            "    result, timezones = array_strptime(arg, fmt, exact=exact, errors=errors, utc=utc)\n",
            "  File \"pandas/_libs/tslibs/strptime.pyx\", line 530, in pandas._libs.tslibs.strptime.array_strptime\n",
            "  File \"pandas/_libs/tslibs/strptime.pyx\", line 351, in pandas._libs.tslibs.strptime.array_strptime\n",
            "ValueError: time data \"9/1/2014 10:09:45\" doesn't match format \"%Y-%m-%d %H:%M:%S\", at position 62. You might want to try:\n",
            "    - passing `format` if your strings have a consistent format;\n",
            "    - passing `format='ISO8601'` if your strings are all ISO8601 but not necessarily in exactly the same format;\n",
            "    - passing `format='mixed'`, and the format will be inferred for each element individually. You might want to use `dayfirst` alongside this.\n",
            "data preprocessing...\n",
            "/content/EODA/data_provider/read_geodataframe.py:100: UserWarning: CRS mismatch between the CRS of left geometries and the CRS of right geometries.\n",
            "Use `to_crs()` to reproject one of the input geometries to match the CRS of the other.\n",
            "\n",
            "Left CRS: EPSG:4326\n",
            "Right CRS: None\n",
            "\n",
            "  gdf_in_join = gpd.sjoin(gdf_in, tessellation)\n",
            "/content/EODA/data_provider/read_geodataframe.py:108: UserWarning: CRS mismatch between the CRS of left geometries and the CRS of right geometries.\n",
            "Use `to_crs()` to reproject one of the input geometries to match the CRS of the other.\n",
            "\n",
            "Left CRS: EPSG:4326\n",
            "Right CRS: None\n",
            "\n",
            "  gdf_final_join = gpd.sjoin(gdf_final, tessellation)\n",
            "Traceback (most recent call last):\n",
            "  File \"/content/EODA/run.py\", line 79, in <module>\n",
            "    main()\n",
            "  File \"/content/EODA/run.py\", line 55, in main\n",
            "    load_dataset(args.city, args.sample_time, dataset_directory)\n",
            "  File \"/content/EODA/data_provider/read_geodataframe.py\", line 114, in load_dataset\n",
            "    gdf_final_join[\"starttime\"] = pd.to_datetime(gdf_final_join[\"starttime\"])\n",
            "  File \"/usr/local/lib/python3.10/dist-packages/pandas/core/tools/datetimes.py\", line 1050, in to_datetime\n",
            "    values = convert_listlike(arg._values, format)\n",
            "  File \"/usr/local/lib/python3.10/dist-packages/pandas/core/tools/datetimes.py\", line 453, in _convert_listlike_datetimes\n",
            "    return _array_strptime_with_fallback(arg, name, utc, format, exact, errors)\n",
            "  File \"/usr/local/lib/python3.10/dist-packages/pandas/core/tools/datetimes.py\", line 484, in _array_strptime_with_fallback\n",
            "    result, timezones = array_strptime(arg, fmt, exact=exact, errors=errors, utc=utc)\n",
            "  File \"pandas/_libs/tslibs/strptime.pyx\", line 530, in pandas._libs.tslibs.strptime.array_strptime\n",
            "  File \"pandas/_libs/tslibs/strptime.pyx\", line 351, in pandas._libs.tslibs.strptime.array_strptime\n",
            "ValueError: time data \"9/1/2014 10:09:45\" doesn't match format \"%Y-%m-%d %H:%M:%S\", at position 62. You might want to try:\n",
            "    - passing `format` if your strings have a consistent format;\n",
            "    - passing `format='ISO8601'` if your strings are all ISO8601 but not necessarily in exactly the same format;\n",
            "    - passing `format='mixed'`, and the format will be inferred for each element individually. You might want to use `dayfirst` alongside this.\n"
          ]
        }
      ],
      "source": [
        "!bash /content/EODA/scripts/Ablation/Attention.sh"
      ]
    },
    {
      "cell_type": "code",
      "execution_count": null,
      "metadata": {
        "id": "NCQYqiUoT3g1"
      },
      "outputs": [],
      "source": [
        "!bash /content/EODA/scripts/Ablation/Transformer.sh"
      ]
    }
  ],
  "metadata": {
    "accelerator": "GPU",
    "colab": {
      "gpuType": "T4",
      "provenance": [],
      "authorship_tag": "ABX9TyOEk0wx+EMW10B+131kYQpl",
      "include_colab_link": true
    },
    "kernelspec": {
      "display_name": "Python 3",
      "name": "python3"
    },
    "language_info": {
      "name": "python"
    }
  },
  "nbformat": 4,
  "nbformat_minor": 0
}
