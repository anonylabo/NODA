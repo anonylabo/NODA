{
  "nbformat": 4,
  "nbformat_minor": 0,
  "metadata": {
    "colab": {
      "provenance": [],
      "gpuType": "L4",
      "authorship_tag": "ABX9TyN8ZpUrSB057r67oMxhF14z",
      "include_colab_link": true
    },
    "kernelspec": {
      "name": "python3",
      "display_name": "Python 3"
    },
    "language_info": {
      "name": "python"
    },
    "accelerator": "GPU"
  },
  "cells": [
    {
      "cell_type": "markdown",
      "metadata": {
        "id": "view-in-github",
        "colab_type": "text"
      },
      "source": [
        "<a href=\"https://colab.research.google.com/github/anonylabo/NODA/blob/main/NODA.ipynb\" target=\"_parent\"><img src=\"https://colab.research.google.com/assets/colab-badge.svg\" alt=\"Open In Colab\"/></a>"
      ]
    },
    {
      "cell_type": "markdown",
      "source": [
        "#クローン"
      ],
      "metadata": {
        "id": "nV6BRBcrB8DP"
      }
    },
    {
      "cell_type": "code",
      "execution_count": null,
      "metadata": {
        "colab": {
          "base_uri": "https://localhost:8080/"
        },
        "id": "ECaLk4869ECH",
        "outputId": "500e6b61-f3bb-44e1-abf0-5d9ceda72bbb"
      },
      "outputs": [
        {
          "output_type": "stream",
          "name": "stdout",
          "text": [
            "Cloning into 'NODA'...\n",
            "remote: Enumerating objects: 561, done.\u001b[K\n",
            "remote: Counting objects: 100% (193/193), done.\u001b[K\n",
            "remote: Compressing objects: 100% (165/165), done.\u001b[K\n",
            "remote: Total 561 (delta 95), reused 43 (delta 26), pack-reused 368 (from 1)\u001b[K\n",
            "Receiving objects: 100% (561/561), 21.67 MiB | 16.49 MiB/s, done.\n",
            "Resolving deltas: 100% (263/263), done.\n"
          ]
        }
      ],
      "source": [
        "!git clone https://github.com/anonylabo/NODA"
      ]
    },
    {
      "cell_type": "markdown",
      "source": [
        "#データ"
      ],
      "metadata": {
        "id": "RTS9hdyXB5x1"
      }
    },
    {
      "cell_type": "code",
      "source": [
        "%cd /content/NODA/data\n"
      ],
      "metadata": {
        "colab": {
          "base_uri": "https://localhost:8080/"
        },
        "id": "aps1nxLL9GHR",
        "outputId": "bcad2927-2e58-42a0-eba4-014a7a418d1d"
      },
      "execution_count": null,
      "outputs": [
        {
          "output_type": "stream",
          "name": "stdout",
          "text": [
            "/content/NODA/data\n"
          ]
        }
      ]
    },
    {
      "cell_type": "code",
      "source": [
        "#time\n",
        "%%time\n",
        "import gdown\n",
        "driveurl = 'https://drive.google.com/drive/folders/1q5c7b8JOgWzrofeDjIoVnFcAUF_DcXKi' #DC\n",
        "\n",
        "gdown.download_folder(driveurl)\n"
      ],
      "metadata": {
        "colab": {
          "base_uri": "https://localhost:8080/"
        },
        "id": "kk4-QgWX9RjL",
        "outputId": "735698eb-6b74-4cae-8551-fea8d05fd276"
      },
      "execution_count": null,
      "outputs": [
        {
          "output_type": "stream",
          "name": "stderr",
          "text": [
            "Retrieving folder contents\n"
          ]
        },
        {
          "output_type": "stream",
          "name": "stdout",
          "text": [
            "Processing file 14CYhNdcvJJTl05nsTux8gq_ifKUC0Ufx 201404-citibike-tripdata.zip\n",
            "Processing file 1UVf4ljuOsQm2ElFUi6paCCS3r0ZlNQ4k 201405-citibike-tripdata.zip\n",
            "Processing file 1ZNsdWPxcutRywvYpRdaBZOUseexdznRU 201406-citibike-tripdata.zip\n",
            "Processing file 1QEL93lrJPO2OevyMoonYSgkMIdvns6z3 201407-citibike-tripdata.zip\n",
            "Processing file 1myK-6F6KZaVpoMZfb943jcQerJewN82- 201408-citibike-tripdata.zip\n",
            "Processing file 1N2_bMeHFPQjjIz9EZvpkCbJIslb4Rf5E 201409-citibike-tripdata.zip\n",
            "Processing file 1u8s3BO9melCKRUbNGZBA7NB34J4YMllC df_grouped_1000m_15min.csv\n",
            "Processing file 1mEtpYbyayJ58v_DZ_Y88ZM1YKxPHxkEm df_grouped_1000m_30min.csv\n",
            "Processing file 1LZf2iZBNrrxjPoiJ_cOq53_LyzP1_M14 df_grouped_1000m_45min.csv\n",
            "Processing file 1D0EkjAK7U1-7yuS4bXqkX2OYXfVTbUsE df_grouped_1000m_60min.csv\n",
            "Processing file 159HiC0Qk-GXgmcAX4gCUnzc9vT8nnGN7 Tessellation_1000m_NYC.csv\n"
          ]
        },
        {
          "output_type": "stream",
          "name": "stderr",
          "text": [
            "Retrieving folder contents completed\n",
            "Building directory structure\n",
            "Building directory structure completed\n",
            "Downloading...\n",
            "From: https://drive.google.com/uc?id=14CYhNdcvJJTl05nsTux8gq_ifKUC0Ufx\n",
            "To: /content/NODA/data/NYC/201404-citibike-tripdata.zip\n",
            "100%|██████████| 21.4M/21.4M [00:00<00:00, 28.3MB/s]\n",
            "Downloading...\n",
            "From (original): https://drive.google.com/uc?id=1UVf4ljuOsQm2ElFUi6paCCS3r0ZlNQ4k\n",
            "From (redirected): https://drive.google.com/uc?id=1UVf4ljuOsQm2ElFUi6paCCS3r0ZlNQ4k&confirm=t&uuid=480726cb-f1fb-46e1-80f9-1860ac78182f\n",
            "To: /content/NODA/data/NYC/201405-citibike-tripdata.zip\n",
            "100%|██████████| 27.6M/27.6M [00:01<00:00, 21.9MB/s]\n",
            "Downloading...\n",
            "From (original): https://drive.google.com/uc?id=1ZNsdWPxcutRywvYpRdaBZOUseexdznRU\n",
            "From (redirected): https://drive.google.com/uc?id=1ZNsdWPxcutRywvYpRdaBZOUseexdznRU&confirm=t&uuid=ded1c5d7-54d6-43e1-9939-93e3a2115ab3\n",
            "To: /content/NODA/data/NYC/201406-citibike-tripdata.zip\n",
            "100%|██████████| 29.9M/29.9M [00:00<00:00, 30.6MB/s]\n",
            "Downloading...\n",
            "From (original): https://drive.google.com/uc?id=1QEL93lrJPO2OevyMoonYSgkMIdvns6z3\n",
            "From (redirected): https://drive.google.com/uc?id=1QEL93lrJPO2OevyMoonYSgkMIdvns6z3&confirm=t&uuid=3c7dd4ac-9bb1-484e-9778-c7bfae655163\n",
            "To: /content/NODA/data/NYC/201407-citibike-tripdata.zip\n",
            "100%|██████████| 30.9M/30.9M [00:00<00:00, 67.4MB/s]\n",
            "Downloading...\n",
            "From (original): https://drive.google.com/uc?id=1myK-6F6KZaVpoMZfb943jcQerJewN82-\n",
            "From (redirected): https://drive.google.com/uc?id=1myK-6F6KZaVpoMZfb943jcQerJewN82-&confirm=t&uuid=2e575c08-ade9-48c3-998d-bae190ca079f\n",
            "To: /content/NODA/data/NYC/201408-citibike-tripdata.zip\n",
            "100%|██████████| 30.6M/30.6M [00:01<00:00, 20.3MB/s]\n",
            "Downloading...\n",
            "From (original): https://drive.google.com/uc?id=1N2_bMeHFPQjjIz9EZvpkCbJIslb4Rf5E\n",
            "From (redirected): https://drive.google.com/uc?id=1N2_bMeHFPQjjIz9EZvpkCbJIslb4Rf5E&confirm=t&uuid=a7f27c33-9054-4965-93a0-aee654dbb194\n",
            "To: /content/NODA/data/NYC/201409-citibike-tripdata.zip\n",
            "100%|██████████| 30.3M/30.3M [00:01<00:00, 28.1MB/s]\n",
            "Downloading...\n",
            "From (original): https://drive.google.com/uc?id=1u8s3BO9melCKRUbNGZBA7NB34J4YMllC\n",
            "From (redirected): https://drive.google.com/uc?id=1u8s3BO9melCKRUbNGZBA7NB34J4YMllC&confirm=t&uuid=4d5a9b4d-e3bb-4eec-a9a5-262dd82e0eb8\n",
            "To: /content/NODA/data/NYC/df_grouped_1000m_15min.csv\n",
            "100%|██████████| 96.2M/96.2M [00:00<00:00, 217MB/s]\n",
            "Downloading...\n",
            "From: https://drive.google.com/uc?id=1mEtpYbyayJ58v_DZ_Y88ZM1YKxPHxkEm\n",
            "To: /content/NODA/data/NYC/df_grouped_1000m_30min.csv\n",
            "100%|██████████| 79.5M/79.5M [00:00<00:00, 167MB/s]\n",
            "Downloading...\n",
            "From: https://drive.google.com/uc?id=1LZf2iZBNrrxjPoiJ_cOq53_LyzP1_M14\n",
            "To: /content/NODA/data/NYC/df_grouped_1000m_45min.csv\n",
            "100%|██████████| 68.8M/68.8M [00:00<00:00, 195MB/s]\n",
            "Downloading...\n",
            "From: https://drive.google.com/uc?id=1D0EkjAK7U1-7yuS4bXqkX2OYXfVTbUsE\n",
            "To: /content/NODA/data/NYC/df_grouped_1000m_60min.csv\n",
            "100%|██████████| 61.2M/61.2M [00:01<00:00, 42.3MB/s]\n",
            "Downloading...\n",
            "From: https://drive.google.com/uc?id=159HiC0Qk-GXgmcAX4gCUnzc9vT8nnGN7\n",
            "To: /content/NODA/data/NYC/Tessellation_1000m_NYC.csv\n",
            "100%|██████████| 34.0k/34.0k [00:00<00:00, 71.7MB/s]"
          ]
        },
        {
          "output_type": "stream",
          "name": "stdout",
          "text": [
            "CPU times: user 1.26 s, sys: 840 ms, total: 2.1 s\n",
            "Wall time: 1min 11s\n"
          ]
        },
        {
          "output_type": "stream",
          "name": "stderr",
          "text": [
            "\n",
            "Download completed\n"
          ]
        },
        {
          "output_type": "execute_result",
          "data": {
            "text/plain": [
              "['/content/NODA/data/NYC/201404-citibike-tripdata.zip',\n",
              " '/content/NODA/data/NYC/201405-citibike-tripdata.zip',\n",
              " '/content/NODA/data/NYC/201406-citibike-tripdata.zip',\n",
              " '/content/NODA/data/NYC/201407-citibike-tripdata.zip',\n",
              " '/content/NODA/data/NYC/201408-citibike-tripdata.zip',\n",
              " '/content/NODA/data/NYC/201409-citibike-tripdata.zip',\n",
              " '/content/NODA/data/NYC/df_grouped_1000m_15min.csv',\n",
              " '/content/NODA/data/NYC/df_grouped_1000m_30min.csv',\n",
              " '/content/NODA/data/NYC/df_grouped_1000m_45min.csv',\n",
              " '/content/NODA/data/NYC/df_grouped_1000m_60min.csv',\n",
              " '/content/NODA/data/NYC/Tessellation_1000m_NYC.csv']"
            ]
          },
          "metadata": {},
          "execution_count": 3
        }
      ]
    },
    {
      "cell_type": "markdown",
      "source": [
        "#スクリプト実行"
      ],
      "metadata": {
        "id": "sNgq0OWtB_Ms"
      }
    },
    {
      "cell_type": "code",
      "source": [
        "%cd /content/NODA"
      ],
      "metadata": {
        "colab": {
          "base_uri": "https://localhost:8080/"
        },
        "id": "qV3F6wbZ9c9d",
        "outputId": "faee5c47-2a88-4496-c4b2-96ce499db1f5"
      },
      "execution_count": null,
      "outputs": [
        {
          "output_type": "stream",
          "name": "stdout",
          "text": [
            "/content/NODA\n"
          ]
        }
      ]
    },
    {
      "cell_type": "code",
      "source": [
        "#!bash /content/NODA/scripts/Main/NYC/NODA.sh\n",
        "\n",
        "!python -u run.py \\\n",
        "  --path ./ \\\n",
        "  --model EODA \\\n",
        "  --sample_time '60min' \\\n",
        "  --itrs 10 \\\n",
        "  --train_epochs 50 \\\n",
        "  --patience 5 \\\n",
        "  --lr 1e-03 \\\n",
        "  --city 'NYC' \\\n",
        "  --num_tiles 47 \\\n",
        "  --d_model 64 \\\n",
        "  --n_head 8 \\\n",
        "  --temporal_num_layers 2 \\\n",
        "  --spatial_num_layers 1 \\\n",
        "  --use_kvr \\\n",
        "  --save_outputs"
      ],
      "metadata": {
        "colab": {
          "base_uri": "https://localhost:8080/"
        },
        "id": "s5LwRkHk97Hn",
        "outputId": "ae219059-6aec-43c0-f868-1e5a4b954a33"
      },
      "execution_count": null,
      "outputs": [
        {
          "output_type": "stream",
          "name": "stdout",
          "text": [
            "Args in experiment:\n",
            "Namespace(path='./', model='EODA', sample_time='60min', itrs=10, train_epochs=50, patience=5, batch_size=16, seq_len=11, lr=0.001, save_outputs=True, city='NYC', num_tiles=47, dropout=0.1, d_model=64, n_head=8, temporal_num_layers=2, spatial_num_layers=1, use_relativepos=False, use_kvr=True, use_only=True, d_temporal=64, d_spatial=16)\n",
            "\n",
            "\n",
            "------------------------------------------------------------------------------\n",
            "------------------------------------------------------------------------------\n",
            "itr : 1\n",
            ">>>>>>>start training : >>>>>>>>>>>>>>>>>>>>>>>>>>\n",
            "Epoch: 1, cost time: 20.70561909675598, Steps: 113 | Train Loss: 1.135717816584933 Vali Loss: 1.0450660606910442\n",
            "Validation loss decreased (inf --> 1.045066).  Saving model ...\n",
            "Epoch: 2, cost time: 18.042168140411377, Steps: 113 | Train Loss: 0.946847298503977 Vali Loss: 0.9820570123606714\n",
            "Validation loss decreased (1.045066 --> 0.982057).  Saving model ...\n",
            "Epoch: 3, cost time: 18.1549391746521, Steps: 113 | Train Loss: 0.8852269240712698 Vali Loss: 0.9280876085675996\n",
            "Validation loss decreased (0.982057 --> 0.928088).  Saving model ...\n",
            "Epoch: 4, cost time: 18.23288345336914, Steps: 113 | Train Loss: 0.846065330821856 Vali Loss: 0.9167510538265623\n",
            "Validation loss decreased (0.928088 --> 0.916751).  Saving model ...\n",
            "Epoch: 5, cost time: 18.12993574142456, Steps: 113 | Train Loss: 0.8290227873135457 Vali Loss: 0.9231942501561395\n",
            "EarlyStopping counter: 1 out of 5\n",
            "Epoch: 6, cost time: 18.170012712478638, Steps: 113 | Train Loss: 0.8095795019010527 Vali Loss: 0.8931335909613247\n",
            "Validation loss decreased (0.916751 --> 0.893134).  Saving model ...\n",
            "Epoch: 7, cost time: 18.240334033966064, Steps: 113 | Train Loss: 0.8019115054501896 Vali Loss: 0.9087066999797163\n",
            "EarlyStopping counter: 1 out of 5\n",
            "Epoch: 8, cost time: 18.27863049507141, Steps: 113 | Train Loss: 0.8013276950975435 Vali Loss: 0.8804849468428513\n",
            "Validation loss decreased (0.893134 --> 0.880485).  Saving model ...\n",
            "Epoch: 9, cost time: 18.2292320728302, Steps: 113 | Train Loss: 0.7973248573531092 Vali Loss: 0.8906415474825892\n",
            "EarlyStopping counter: 1 out of 5\n",
            "Epoch: 10, cost time: 18.250946521759033, Steps: 113 | Train Loss: 0.7811265561432965 Vali Loss: 0.8797003482950145\n",
            "Validation loss decreased (0.880485 --> 0.879700).  Saving model ...\n",
            "Epoch: 11, cost time: 18.15368962287903, Steps: 113 | Train Loss: 0.7729516955076066 Vali Loss: 0.8761867921927879\n",
            "Validation loss decreased (0.879700 --> 0.876187).  Saving model ...\n",
            "Epoch: 12, cost time: 18.195362329483032, Steps: 113 | Train Loss: 0.7703681981141588 Vali Loss: 0.8846274675994084\n",
            "EarlyStopping counter: 1 out of 5\n",
            "Epoch: 13, cost time: 18.20512104034424, Steps: 113 | Train Loss: 0.77010941017518 Vali Loss: 0.8860720704341757\n",
            "EarlyStopping counter: 2 out of 5\n",
            "Epoch: 14, cost time: 18.2922146320343, Steps: 113 | Train Loss: 0.7682016692330352 Vali Loss: 0.8818276072370594\n",
            "EarlyStopping counter: 3 out of 5\n",
            "Epoch: 15, cost time: 18.23695182800293, Steps: 113 | Train Loss: 0.7655109190835362 Vali Loss: 0.8904190988376223\n",
            "EarlyStopping counter: 4 out of 5\n",
            "Epoch: 16, cost time: 18.21916151046753, Steps: 113 | Train Loss: 0.7650886185928784 Vali Loss: 0.8948524697073574\n",
            "EarlyStopping counter: 5 out of 5\n",
            "Early stopping\n",
            ">>>>>>>testing : <<<<<<<<<<<<<<<<<<<<<<<<<<<<<<<<<\n",
            "Traceback (most recent call last):\n",
            "  File \"/content/NODA/run.py\", line 81, in <module>\n",
            "    main()\n",
            "  File \"/content/NODA/run.py\", line 75, in main\n",
            "    exp.test(itr)\n",
            "  File \"/content/NODA/exp/exp_main.py\", line 156, in test\n",
            "    A_spatial_[:, :, j, param[j]] = A_spatial[:, :, j, :]\n",
            "IndexError: index 2209 is out of bounds for dimension 2 with size 2209\n"
          ]
        }
      ]
    },
    {
      "cell_type": "markdown",
      "source": [
        "#学習済みモデル"
      ],
      "metadata": {
        "id": "HbJPbCn5CTj8"
      }
    },
    {
      "cell_type": "code",
      "source": [],
      "metadata": {
        "id": "3uczmmSG-DNI"
      },
      "execution_count": null,
      "outputs": []
    }
  ]
}